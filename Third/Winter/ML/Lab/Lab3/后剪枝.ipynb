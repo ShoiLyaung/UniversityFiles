{
 "cells": [
  {
   "cell_type": "code",
   "execution_count": 51,
   "metadata": {},
   "outputs": [],
   "source": [
    "from prune import *"
   ]
  },
  {
   "cell_type": "markdown",
   "metadata": {},
   "source": [
    "## 加载数据"
   ]
  },
  {
   "cell_type": "code",
   "execution_count": 52,
   "metadata": {},
   "outputs": [],
   "source": [
    "data = load_data('ex2.txt')\n",
    "tree = create_tree(data, fleaf, ferr)"
   ]
  },
  {
   "cell_type": "code",
   "execution_count": 53,
   "metadata": {},
   "outputs": [],
   "source": [
    "datafile = 'ex2.txt'\n",
    "dataset = load_data(datafile)\n",
    "tree = create_tree(dataset, fleaf, ferr, opt={'n_tolerance': 4,\n",
    "                                                'err_tolerance': 1})\n",
    "\n",
    "dotfile = '{}.dot'.format(datafile.split('.')[0])\n",
    "with open(dotfile, 'w') as f:\n",
    "    content = dotify(tree)\n",
    "    f.write(content)"
   ]
  },
  {
   "cell_type": "code",
   "execution_count": 54,
   "metadata": {},
   "outputs": [],
   "source": [
    "!dot -Tpng ex2.dot -o ex2.png"
   ]
  },
  {
   "cell_type": "markdown",
   "metadata": {},
   "source": [
    "## 判断树结构"
   ]
  },
  {
   "cell_type": "code",
   "execution_count": 55,
   "metadata": {},
   "outputs": [
    {
     "data": {
      "text/plain": [
       "False"
      ]
     },
     "execution_count": 55,
     "metadata": {},
     "output_type": "execute_result"
    }
   ],
   "source": [
    "not_tree(tree)"
   ]
  },
  {
   "cell_type": "markdown",
   "metadata": {},
   "source": [
    "## 对树结构进行塌陷处理"
   ]
  },
  {
   "cell_type": "code",
   "execution_count": 56,
   "metadata": {},
   "outputs": [
    {
     "data": {
      "text/plain": [
       "53.13610792913644"
      ]
     },
     "execution_count": 56,
     "metadata": {},
     "output_type": "execute_result"
    }
   ],
   "source": [
    "collapse(tree)"
   ]
  },
  {
   "cell_type": "markdown",
   "metadata": {},
   "source": [
    "## 输出树结构"
   ]
  },
  {
   "cell_type": "code",
   "execution_count": 57,
   "metadata": {},
   "outputs": [
    {
     "data": {
      "text/plain": [
       "{'feat_idx': 0,\n",
       " 'feat_val': 0.508542,\n",
       " 'left': {'feat_idx': 0,\n",
       "  'feat_val': 0.463241,\n",
       "  'left': {'feat_idx': 0,\n",
       "   'feat_val': 0.130626,\n",
       "   'left': {'feat_idx': 0,\n",
       "    'feat_val': 0.085111,\n",
       "    'left': {'feat_idx': 0,\n",
       "     'feat_val': 0.053764,\n",
       "     'left': 4.091626,\n",
       "     'right': -2.544392714285715},\n",
       "    'right': 6.509843285714284},\n",
       "   'right': {'feat_idx': 0,\n",
       "    'feat_val': 0.377383,\n",
       "    'left': {'feat_idx': 0,\n",
       "     'feat_val': 0.3417,\n",
       "     'left': {'feat_idx': 0,\n",
       "      'feat_val': 0.32889,\n",
       "      'left': {'feat_idx': 0,\n",
       "       'feat_val': 0.300318,\n",
       "       'left': {'feat_idx': 0,\n",
       "        'feat_val': 0.176523,\n",
       "        'left': {'feat_idx': 0,\n",
       "         'feat_val': 0.156273,\n",
       "         'left': -6.247900000000001,\n",
       "         'right': -12.1079725},\n",
       "        'right': {'feat_idx': 0,\n",
       "         'feat_val': 0.203993,\n",
       "         'left': 3.4496025,\n",
       "         'right': {'feat_idx': 0,\n",
       "          'feat_val': 0.218321,\n",
       "          'left': -11.822278500000001,\n",
       "          'right': {'feat_idx': 0,\n",
       "           'feat_val': 0.228628,\n",
       "           'left': 6.770429,\n",
       "           'right': {'feat_idx': 0,\n",
       "            'feat_val': 0.264639,\n",
       "            'left': -13.070501,\n",
       "            'right': 0.40377471428571476}}}}},\n",
       "       'right': -19.9941552},\n",
       "      'right': 15.05929075},\n",
       "     'right': {'feat_idx': 0,\n",
       "      'feat_val': 0.351478,\n",
       "      'left': -22.693879600000002,\n",
       "      'right': -15.08511175}},\n",
       "    'right': {'feat_idx': 0,\n",
       "     'feat_val': 0.446196,\n",
       "     'left': {'feat_idx': 0,\n",
       "      'feat_val': 0.418943,\n",
       "      'left': {'feat_idx': 0,\n",
       "       'feat_val': 0.388789,\n",
       "       'left': 3.6584772500000016,\n",
       "       'right': -0.8923554999999995},\n",
       "      'right': 14.38417875},\n",
       "     'right': -12.558604833333334}}},\n",
       "  'right': {'feat_idx': 0,\n",
       "   'feat_val': 0.483803,\n",
       "   'left': 3.4331330000000007,\n",
       "   'right': 12.50675925}},\n",
       " 'right': {'feat_idx': 0,\n",
       "  'feat_val': 0.731636,\n",
       "  'left': {'feat_idx': 0,\n",
       "   'feat_val': 0.642373,\n",
       "   'left': {'feat_idx': 0,\n",
       "    'feat_val': 0.618868,\n",
       "    'left': {'feat_idx': 0,\n",
       "     'feat_val': 0.585413,\n",
       "     'left': {'feat_idx': 0,\n",
       "      'feat_val': 0.560301,\n",
       "      'left': {'feat_idx': 0,\n",
       "       'feat_val': 0.531944,\n",
       "       'left': 101.73699325000001,\n",
       "       'right': {'feat_idx': 0,\n",
       "        'feat_val': 0.546601,\n",
       "        'left': 110.979946,\n",
       "        'right': 109.38961049999999}},\n",
       "      'right': 97.20018024999999},\n",
       "     'right': 123.2101316},\n",
       "    'right': 93.67344971428572},\n",
       "   'right': {'feat_idx': 0,\n",
       "    'feat_val': 0.667851,\n",
       "    'left': 114.1516242857143,\n",
       "    'right': {'feat_idx': 0,\n",
       "     'feat_val': 0.70889,\n",
       "     'left': {'feat_idx': 0,\n",
       "      'feat_val': 0.69892,\n",
       "      'left': 108.92921799999999,\n",
       "      'right': 104.82495374999999},\n",
       "     'right': 114.554706}}},\n",
       "  'right': {'feat_idx': 0,\n",
       "   'feat_val': 0.953902,\n",
       "   'left': {'feat_idx': 0,\n",
       "    'feat_val': 0.763328,\n",
       "    'left': 78.08564325,\n",
       "    'right': {'feat_idx': 0,\n",
       "     'feat_val': 0.798198,\n",
       "     'left': 102.35780185714285,\n",
       "     'right': {'feat_idx': 0,\n",
       "      'feat_val': 0.838587,\n",
       "      'left': {'feat_idx': 0,\n",
       "       'feat_val': 0.815215,\n",
       "       'left': 88.78449880000001,\n",
       "       'right': 81.110152},\n",
       "      'right': {'feat_idx': 0,\n",
       "       'feat_val': 0.948822,\n",
       "       'left': {'feat_idx': 0,\n",
       "        'feat_val': 0.856421,\n",
       "        'left': 95.27584316666666,\n",
       "        'right': {'feat_idx': 0,\n",
       "         'feat_val': 0.912161,\n",
       "         'left': {'feat_idx': 0,\n",
       "          'feat_val': 0.896683,\n",
       "          'left': {'feat_idx': 0,\n",
       "           'feat_val': 0.883615,\n",
       "           'left': 102.25234449999999,\n",
       "           'right': 95.181793},\n",
       "          'right': 104.825409},\n",
       "         'right': 96.452867}},\n",
       "       'right': 87.3103875}}}},\n",
       "   'right': {'feat_idx': 0,\n",
       "    'feat_val': 0.960398,\n",
       "    'left': 112.42895575000001,\n",
       "    'right': 105.24862350000001}}}}"
      ]
     },
     "execution_count": 57,
     "metadata": {},
     "output_type": "execute_result"
    }
   ],
   "source": [
    "tree"
   ]
  },
  {
   "cell_type": "markdown",
   "metadata": {},
   "source": [
    "## 使用测试数据进行后剪枝"
   ]
  },
  {
   "cell_type": "code",
   "execution_count": 58,
   "metadata": {},
   "outputs": [],
   "source": [
    "data_test = load_data('ex2test.txt')"
   ]
  },
  {
   "cell_type": "code",
   "execution_count": 59,
   "metadata": {},
   "outputs": [
    {
     "name": "stdout",
     "output_type": "stream",
     "text": [
      "merged\n",
      "merged\n",
      "merged\n",
      "merged\n",
      "merged\n",
      "merged\n",
      "merged\n",
      "merged\n"
     ]
    }
   ],
   "source": [
    "pruned_tree = postprune(tree, data_test)"
   ]
  },
  {
   "cell_type": "code",
   "execution_count": 60,
   "metadata": {},
   "outputs": [
    {
     "data": {
      "text/plain": [
       "{'feat_idx': 0,\n",
       " 'feat_val': 0.508542,\n",
       " 'left': {'feat_idx': 0,\n",
       "  'feat_val': 0.463241,\n",
       "  'left': {'feat_idx': 0,\n",
       "   'feat_val': 0.130626,\n",
       "   'left': {'feat_idx': 0,\n",
       "    'feat_val': 0.085111,\n",
       "    'left': 0.7736166428571425,\n",
       "    'right': 6.509843285714284},\n",
       "   'right': {'feat_idx': 0,\n",
       "    'feat_val': 0.377383,\n",
       "    'left': {'feat_idx': 0,\n",
       "     'feat_val': 0.3417,\n",
       "     'left': {'feat_idx': 0,\n",
       "      'feat_val': 0.32889,\n",
       "      'left': {'feat_idx': 0,\n",
       "       'feat_val': 0.300318,\n",
       "       'left': {'feat_idx': 0,\n",
       "        'feat_val': 0.176523,\n",
       "        'left': -9.177936250000002,\n",
       "        'right': {'feat_idx': 0,\n",
       "         'feat_val': 0.203993,\n",
       "         'left': 3.4496025,\n",
       "         'right': {'feat_idx': 0,\n",
       "          'feat_val': 0.218321,\n",
       "          'left': -11.822278500000001,\n",
       "          'right': {'feat_idx': 0,\n",
       "           'feat_val': 0.228628,\n",
       "           'left': 6.770429,\n",
       "           'right': {'feat_idx': 0,\n",
       "            'feat_val': 0.264639,\n",
       "            'left': -13.070501,\n",
       "            'right': 0.40377471428571476}}}}},\n",
       "       'right': -19.9941552},\n",
       "      'right': 15.05929075},\n",
       "     'right': {'feat_idx': 0,\n",
       "      'feat_val': 0.351478,\n",
       "      'left': -22.693879600000002,\n",
       "      'right': -15.08511175}},\n",
       "    'right': {'feat_idx': 0,\n",
       "     'feat_val': 0.446196,\n",
       "     'left': {'feat_idx': 0,\n",
       "      'feat_val': 0.418943,\n",
       "      'left': 1.383060875000001,\n",
       "      'right': 14.38417875},\n",
       "     'right': -12.558604833333334}}},\n",
       "  'right': {'feat_idx': 0,\n",
       "   'feat_val': 0.483803,\n",
       "   'left': 3.4331330000000007,\n",
       "   'right': 12.50675925}},\n",
       " 'right': {'feat_idx': 0,\n",
       "  'feat_val': 0.731636,\n",
       "  'left': {'feat_idx': 0,\n",
       "   'feat_val': 0.642373,\n",
       "   'left': {'feat_idx': 0,\n",
       "    'feat_val': 0.618868,\n",
       "    'left': {'feat_idx': 0,\n",
       "     'feat_val': 0.585413,\n",
       "     'left': {'feat_idx': 0,\n",
       "      'feat_val': 0.560301,\n",
       "      'left': {'feat_idx': 0,\n",
       "       'feat_val': 0.531944,\n",
       "       'left': 101.73699325000001,\n",
       "       'right': 110.18477825},\n",
       "      'right': 97.20018024999999},\n",
       "     'right': 123.2101316},\n",
       "    'right': 93.67344971428572},\n",
       "   'right': {'feat_idx': 0,\n",
       "    'feat_val': 0.667851,\n",
       "    'left': 114.1516242857143,\n",
       "    'right': {'feat_idx': 0,\n",
       "     'feat_val': 0.70889,\n",
       "     'left': 106.87708587499999,\n",
       "     'right': 114.554706}}},\n",
       "  'right': {'feat_idx': 0,\n",
       "   'feat_val': 0.953902,\n",
       "   'left': {'feat_idx': 0,\n",
       "    'feat_val': 0.763328,\n",
       "    'left': 78.08564325,\n",
       "    'right': {'feat_idx': 0,\n",
       "     'feat_val': 0.798198,\n",
       "     'left': 102.35780185714285,\n",
       "     'right': {'feat_idx': 0,\n",
       "      'feat_val': 0.838587,\n",
       "      'left': 84.94732540000001,\n",
       "      'right': {'feat_idx': 0,\n",
       "       'feat_val': 0.948822,\n",
       "       'left': {'feat_idx': 0,\n",
       "        'feat_val': 0.856421,\n",
       "        'left': 95.27584316666666,\n",
       "        'right': {'feat_idx': 0,\n",
       "         'feat_val': 0.912161,\n",
       "         'left': {'feat_idx': 0,\n",
       "          'feat_val': 0.896683,\n",
       "          'left': 98.71706875,\n",
       "          'right': 104.825409},\n",
       "         'right': 96.452867}},\n",
       "       'right': 87.3103875}}}},\n",
       "   'right': 108.838789625}}}"
      ]
     },
     "execution_count": 60,
     "metadata": {},
     "output_type": "execute_result"
    }
   ],
   "source": [
    "pruned_tree"
   ]
  },
  {
   "cell_type": "markdown",
   "metadata": {},
   "source": [
    "## 生成树结构dot文件用于显示"
   ]
  },
  {
   "cell_type": "code",
   "execution_count": 61,
   "metadata": {},
   "outputs": [],
   "source": [
    "with open('ex2_prune.dot', 'w') as f:\n",
    "    content = dotify(pruned_tree)\n",
    "    f.write(content)"
   ]
  },
  {
   "cell_type": "code",
   "execution_count": 62,
   "metadata": {},
   "outputs": [],
   "source": [
    "!dot  -Tpng ex2_prune.dot -o ex2_prune.png"
   ]
  }
 ],
 "metadata": {
  "kernelspec": {
   "display_name": "Python 3",
   "language": "python",
   "name": "python3"
  },
  "language_info": {
   "codemirror_mode": {
    "name": "ipython",
    "version": 3
   },
   "file_extension": ".py",
   "mimetype": "text/x-python",
   "name": "python",
   "nbconvert_exporter": "python",
   "pygments_lexer": "ipython3",
   "version": "3.7.16"
  }
 },
 "nbformat": 4,
 "nbformat_minor": 2
}
